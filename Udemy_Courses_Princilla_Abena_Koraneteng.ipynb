{
  "cells": [
    {
      "cell_type": "markdown",
      "id": "f2a3072d",
      "metadata": {
        "id": "f2a3072d"
      },
      "source": [
        "### Project on Data Cleaning In Python\n",
        "Background\n",
        "Udemy is a massive online open course (MOOC) web application. Within Udemy, a student can learn nearly anything. You may wonder, why would anyone take one of these courses? If you use Google’s Trends app, you can enter in different search terms and compare the world-wide volume of searches for that search term.\n",
        "\n",
        "For example, I put in the terms, who, what, when, where, why and how. In addition, I furthered the comparison and added the terms, how to, what are, who is, why are, when do.\n",
        "\n",
        "According to the trends on Google, obviously the worlds wants to know how to do things and this is exactly what Udemy does. It teaches people how to do things.\n",
        "\n",
        "Below is the steps taken to clean and streamline the Web Development data to be used by our data analysts.\n",
        "\n",
        "Project By:\n",
        "Princilla Koranteng"
      ]
    },
    {
      "cell_type": "code",
      "execution_count": null,
      "id": "86ecd110",
      "metadata": {
        "id": "86ecd110"
      },
      "outputs": [],
      "source": [
        "# import the necessary librabries\n",
        "import pandas as pd\n",
        "import numpy as np\n"
      ]
    },
    {
      "cell_type": "code",
      "execution_count": null,
      "id": "48fcc74b",
      "metadata": {
        "id": "48fcc74b",
        "outputId": "ee24c19a-2c71-48c5-8427-c7bb3e48679a"
      },
      "outputs": [
        {
          "data": {
            "text/html": [
              "<div>\n",
              "<style scoped>\n",
              "    .dataframe tbody tr th:only-of-type {\n",
              "        vertical-align: middle;\n",
              "    }\n",
              "\n",
              "    .dataframe tbody tr th {\n",
              "        vertical-align: top;\n",
              "    }\n",
              "\n",
              "    .dataframe thead th {\n",
              "        text-align: right;\n",
              "    }\n",
              "</style>\n",
              "<table border=\"1\" class=\"dataframe\">\n",
              "  <thead>\n",
              "    <tr style=\"text-align: right;\">\n",
              "      <th></th>\n",
              "      <th>id</th>\n",
              "      <th>title</th>\n",
              "      <th>url</th>\n",
              "      <th>isPaid</th>\n",
              "      <th>price</th>\n",
              "      <th>numSubscribers</th>\n",
              "      <th>numReviews</th>\n",
              "      <th>numPublishedLectures</th>\n",
              "      <th>instructionalLevel</th>\n",
              "      <th>contentInfo</th>\n",
              "      <th>publishedTime</th>\n",
              "      <th>Unnamed: 11</th>\n",
              "      <th>Unnamed: 12</th>\n",
              "      <th>Unnamed: 13</th>\n",
              "      <th>Unnamed: 14</th>\n",
              "      <th>Unnamed: 15</th>\n",
              "    </tr>\n",
              "  </thead>\n",
              "  <tbody>\n",
              "    <tr>\n",
              "      <th>0</th>\n",
              "      <td>28295</td>\n",
              "      <td>Learn Web Designing &amp; HTML5/CSS3 Essentials in...</td>\n",
              "      <td>https://www.udemy.com/build-beautiful-html5-we...</td>\n",
              "      <td>TRUE</td>\n",
              "      <td>75</td>\n",
              "      <td>43285</td>\n",
              "      <td>525</td>\n",
              "      <td>24</td>\n",
              "      <td>All Levels</td>\n",
              "      <td>4 hours</td>\n",
              "      <td>2013-01-03T00:55:31Z</td>\n",
              "      <td>NaN</td>\n",
              "      <td>NaN</td>\n",
              "      <td>NaN</td>\n",
              "      <td>NaN</td>\n",
              "      <td>NaN</td>\n",
              "    </tr>\n",
              "    <tr>\n",
              "      <th>1</th>\n",
              "      <td>19603</td>\n",
              "      <td>Learning Dynamic Website Design - PHP MySQL an...</td>\n",
              "      <td>https://www.udemy.com/learning-dynamic-website...</td>\n",
              "      <td>1</td>\n",
              "      <td>50</td>\n",
              "      <td>47886</td>\n",
              "      <td>285</td>\n",
              "      <td>125</td>\n",
              "      <td>all levels</td>\n",
              "      <td>12.5 hours</td>\n",
              "      <td>2012-06-18T16:52:34Z</td>\n",
              "      <td>NaN</td>\n",
              "      <td>NaN</td>\n",
              "      <td>NaN</td>\n",
              "      <td>NaN</td>\n",
              "      <td>NaN</td>\n",
              "    </tr>\n",
              "    <tr>\n",
              "      <th>2</th>\n",
              "      <td>889438</td>\n",
              "      <td>ChatBots: Messenger ChatBot with API.AI and No...</td>\n",
              "      <td>https://www.udemy.com/chatbots/</td>\n",
              "      <td>1</td>\n",
              "      <td>50</td>\n",
              "      <td>2577</td>\n",
              "      <td>529</td>\n",
              "      <td>64</td>\n",
              "      <td>All Levels</td>\n",
              "      <td>4.5 hours</td>\n",
              "      <td>2016-06-30T16:57:08Z</td>\n",
              "      <td>NaN</td>\n",
              "      <td>NaN</td>\n",
              "      <td>NaN</td>\n",
              "      <td>NaN</td>\n",
              "      <td>NaN</td>\n",
              "    </tr>\n",
              "    <tr>\n",
              "      <th>3</th>\n",
              "      <td>197836</td>\n",
              "      <td>Projects in HTML5</td>\n",
              "      <td>https://www.udemy.com/projects-in-html5/</td>\n",
              "      <td>1</td>\n",
              "      <td>60</td>\n",
              "      <td>8777</td>\n",
              "      <td>206</td>\n",
              "      <td>75</td>\n",
              "      <td>Intermediate Level</td>\n",
              "      <td>15.5 hours</td>\n",
              "      <td>2014-06-17T05:43:50Z</td>\n",
              "      <td>NaN</td>\n",
              "      <td>NaN</td>\n",
              "      <td>NaN</td>\n",
              "      <td>NaN</td>\n",
              "      <td>NaN</td>\n",
              "    </tr>\n",
              "    <tr>\n",
              "      <th>4</th>\n",
              "      <td>505208</td>\n",
              "      <td>Programming Foundations: HTML5 + CSS3 for Entr...</td>\n",
              "      <td>https://www.udemy.com/html-css-more/</td>\n",
              "      <td>1</td>\n",
              "      <td>20</td>\n",
              "      <td>23764</td>\n",
              "      <td>490</td>\n",
              "      <td>58</td>\n",
              "      <td>beginner</td>\n",
              "      <td>5.5 hours</td>\n",
              "      <td>2015-10-17T04:52:25Z</td>\n",
              "      <td>NaN</td>\n",
              "      <td>NaN</td>\n",
              "      <td>NaN</td>\n",
              "      <td>NaN</td>\n",
              "      <td>NaN</td>\n",
              "    </tr>\n",
              "  </tbody>\n",
              "</table>\n",
              "</div>"
            ],
            "text/plain": [
              "       id                                              title  \\\n",
              "0   28295  Learn Web Designing & HTML5/CSS3 Essentials in...   \n",
              "1   19603  Learning Dynamic Website Design - PHP MySQL an...   \n",
              "2  889438  ChatBots: Messenger ChatBot with API.AI and No...   \n",
              "3  197836                                  Projects in HTML5   \n",
              "4  505208  Programming Foundations: HTML5 + CSS3 for Entr...   \n",
              "\n",
              "                                                 url isPaid price  \\\n",
              "0  https://www.udemy.com/build-beautiful-html5-we...   TRUE    75   \n",
              "1  https://www.udemy.com/learning-dynamic-website...      1    50   \n",
              "2                    https://www.udemy.com/chatbots/      1    50   \n",
              "3           https://www.udemy.com/projects-in-html5/      1    60   \n",
              "4               https://www.udemy.com/html-css-more/      1    20   \n",
              "\n",
              "   numSubscribers  numReviews  numPublishedLectures  instructionalLevel  \\\n",
              "0           43285         525                    24          All Levels   \n",
              "1           47886         285                   125          all levels   \n",
              "2            2577         529                    64          All Levels   \n",
              "3            8777         206                    75  Intermediate Level   \n",
              "4           23764         490                    58            beginner   \n",
              "\n",
              "  contentInfo         publishedTime  Unnamed: 11  Unnamed: 12  Unnamed: 13  \\\n",
              "0     4 hours  2013-01-03T00:55:31Z          NaN          NaN          NaN   \n",
              "1  12.5 hours  2012-06-18T16:52:34Z          NaN          NaN          NaN   \n",
              "2   4.5 hours  2016-06-30T16:57:08Z          NaN          NaN          NaN   \n",
              "3  15.5 hours  2014-06-17T05:43:50Z          NaN          NaN          NaN   \n",
              "4   5.5 hours  2015-10-17T04:52:25Z          NaN          NaN          NaN   \n",
              "\n",
              "   Unnamed: 14  Unnamed: 15  \n",
              "0          NaN          NaN  \n",
              "1          NaN          NaN  \n",
              "2          NaN          NaN  \n",
              "3          NaN          NaN  \n",
              "4          NaN          NaN  "
            ]
          },
          "execution_count": 431,
          "metadata": {},
          "output_type": "execute_result"
        }
      ],
      "source": [
        "# read the csv file as a dataframe and check the first five rows\n",
        "df = pd.read_csv('WebDevelopment.csv')\n",
        "df.head()"
      ]
    },
    {
      "cell_type": "code",
      "execution_count": null,
      "id": "79e2f287",
      "metadata": {
        "id": "79e2f287",
        "outputId": "9da93294-9641-4042-9f92-bd66a3bd8f86"
      },
      "outputs": [
        {
          "name": "stdout",
          "output_type": "stream",
          "text": [
            "(1200, 16)\n",
            "The number of rows is 1200 and number columns in the dataframe is 16\n"
          ]
        }
      ],
      "source": [
        "# number of columns and rows in the dataframe\n",
        "print(df.shape)\n",
        "print('The number of rows is {} and number columns in the dataframe is {}'.format(df.shape[0],df.shape[1]))"
      ]
    },
    {
      "cell_type": "markdown",
      "id": "6722ecb5",
      "metadata": {
        "id": "6722ecb5"
      },
      "source": [
        "#### General Information about our data\n",
        "The data has 16 columns and 1200 rows.\n",
        "\n",
        "1. id: column shows the distinct identification of our values in the data. It has zero null values and the data type is an integer.\n",
        "2. title : column shows the various names of the courses in the dataset. It has zero null values and the data type is an object.\n",
        "3. url: column is the website names. It has zero null values and the data type is an object.\n",
        "4. isPaid : column shows whether the course is paid or not paid. It has zero null values and the data type is an object.\n",
        "5. price: column shows the price of subscribing to the courses. It has zero null values and the data type is an object.\n",
        "6. numSubsribers : shows the numbers of subscribers for a specific course. It has zero null values and the data type is an integer.\n",
        "7. numReviews : shows the number of reviews by specific course. It has zero null values and the data type is an integer.\n",
        "8. instructionallevel : shows the different  competency  level of the course. It has zero null values and the data type is an integer.\n",
        "9. contentinfo : shows the duration of each course. It has zero null values and the data type is an integer.\n",
        "10. publishedTime : shows the date a specific course was published.It has zero null values and the data type is an integer.\n",
        "11. Unamed 11,12,13,14,15  columns do not have any values.\n"
      ]
    },
    {
      "cell_type": "code",
      "execution_count": null,
      "id": "fd2b05ba",
      "metadata": {
        "scrolled": false,
        "id": "fd2b05ba",
        "outputId": "581c7874-43de-4971-e4f8-08832bc753f8"
      },
      "outputs": [
        {
          "name": "stdout",
          "output_type": "stream",
          "text": [
            "<class 'pandas.core.frame.DataFrame'>\n",
            "RangeIndex: 1200 entries, 0 to 1199\n",
            "Data columns (total 16 columns):\n",
            " #   Column                Non-Null Count  Dtype  \n",
            "---  ------                --------------  -----  \n",
            " 0   id                    1200 non-null   int64  \n",
            " 1   title                 1200 non-null   object \n",
            " 2   url                   1200 non-null   object \n",
            " 3   isPaid                1200 non-null   object \n",
            " 4   price                 1200 non-null   object \n",
            " 5   numSubscribers        1200 non-null   int64  \n",
            " 6   numReviews            1200 non-null   int64  \n",
            " 7   numPublishedLectures  1200 non-null   int64  \n",
            " 8   instructionalLevel    1200 non-null   object \n",
            " 9   contentInfo           1200 non-null   object \n",
            " 10  publishedTime         1200 non-null   object \n",
            " 11  Unnamed: 11           0 non-null      float64\n",
            " 12  Unnamed: 12           0 non-null      float64\n",
            " 13  Unnamed: 13           0 non-null      float64\n",
            " 14  Unnamed: 14           0 non-null      float64\n",
            " 15  Unnamed: 15           0 non-null      float64\n",
            "dtypes: float64(5), int64(4), object(7)\n",
            "memory usage: 150.1+ KB\n"
          ]
        }
      ],
      "source": [
        "df.info()"
      ]
    },
    {
      "cell_type": "code",
      "execution_count": null,
      "id": "486dec08",
      "metadata": {
        "id": "486dec08",
        "outputId": "448aa6e4-4c53-40e1-86c1-c2d2fe0927b2"
      },
      "outputs": [
        {
          "data": {
            "text/html": [
              "<div>\n",
              "<style scoped>\n",
              "    .dataframe tbody tr th:only-of-type {\n",
              "        vertical-align: middle;\n",
              "    }\n",
              "\n",
              "    .dataframe tbody tr th {\n",
              "        vertical-align: top;\n",
              "    }\n",
              "\n",
              "    .dataframe thead th {\n",
              "        text-align: right;\n",
              "    }\n",
              "</style>\n",
              "<table border=\"1\" class=\"dataframe\">\n",
              "  <thead>\n",
              "    <tr style=\"text-align: right;\">\n",
              "      <th></th>\n",
              "      <th>id</th>\n",
              "      <th>numSubscribers</th>\n",
              "      <th>numReviews</th>\n",
              "      <th>numPublishedLectures</th>\n",
              "      <th>Unnamed: 11</th>\n",
              "      <th>Unnamed: 12</th>\n",
              "      <th>Unnamed: 13</th>\n",
              "      <th>Unnamed: 14</th>\n",
              "      <th>Unnamed: 15</th>\n",
              "    </tr>\n",
              "  </thead>\n",
              "  <tbody>\n",
              "    <tr>\n",
              "      <th>count</th>\n",
              "      <td>1.200000e+03</td>\n",
              "      <td>1200.000000</td>\n",
              "      <td>1200.000000</td>\n",
              "      <td>1200.00000</td>\n",
              "      <td>0.0</td>\n",
              "      <td>0.0</td>\n",
              "      <td>0.0</td>\n",
              "      <td>0.0</td>\n",
              "      <td>0.0</td>\n",
              "    </tr>\n",
              "    <tr>\n",
              "      <th>mean</th>\n",
              "      <td>7.068543e+05</td>\n",
              "      <td>6650.476667</td>\n",
              "      <td>356.579167</td>\n",
              "      <td>52.81750</td>\n",
              "      <td>NaN</td>\n",
              "      <td>NaN</td>\n",
              "      <td>NaN</td>\n",
              "      <td>NaN</td>\n",
              "      <td>NaN</td>\n",
              "    </tr>\n",
              "    <tr>\n",
              "      <th>std</th>\n",
              "      <td>3.289244e+05</td>\n",
              "      <td>14613.648207</td>\n",
              "      <td>1575.217659</td>\n",
              "      <td>62.81375</td>\n",
              "      <td>NaN</td>\n",
              "      <td>NaN</td>\n",
              "      <td>NaN</td>\n",
              "      <td>NaN</td>\n",
              "      <td>NaN</td>\n",
              "    </tr>\n",
              "    <tr>\n",
              "      <th>min</th>\n",
              "      <td>8.324000e+03</td>\n",
              "      <td>19.000000</td>\n",
              "      <td>-602.000000</td>\n",
              "      <td>5.00000</td>\n",
              "      <td>NaN</td>\n",
              "      <td>NaN</td>\n",
              "      <td>NaN</td>\n",
              "      <td>NaN</td>\n",
              "      <td>NaN</td>\n",
              "    </tr>\n",
              "    <tr>\n",
              "      <th>25%</th>\n",
              "      <td>4.757115e+05</td>\n",
              "      <td>1127.500000</td>\n",
              "      <td>25.000000</td>\n",
              "      <td>19.00000</td>\n",
              "      <td>NaN</td>\n",
              "      <td>NaN</td>\n",
              "      <td>NaN</td>\n",
              "      <td>NaN</td>\n",
              "      <td>NaN</td>\n",
              "    </tr>\n",
              "    <tr>\n",
              "      <th>50%</th>\n",
              "      <td>7.384560e+05</td>\n",
              "      <td>2416.500000</td>\n",
              "      <td>64.500000</td>\n",
              "      <td>32.00000</td>\n",
              "      <td>NaN</td>\n",
              "      <td>NaN</td>\n",
              "      <td>NaN</td>\n",
              "      <td>NaN</td>\n",
              "      <td>NaN</td>\n",
              "    </tr>\n",
              "    <tr>\n",
              "      <th>75%</th>\n",
              "      <td>9.752715e+05</td>\n",
              "      <td>6894.750000</td>\n",
              "      <td>178.250000</td>\n",
              "      <td>63.25000</td>\n",
              "      <td>NaN</td>\n",
              "      <td>NaN</td>\n",
              "      <td>NaN</td>\n",
              "      <td>NaN</td>\n",
              "      <td>NaN</td>\n",
              "    </tr>\n",
              "    <tr>\n",
              "      <th>max</th>\n",
              "      <td>1.277924e+06</td>\n",
              "      <td>268923.000000</td>\n",
              "      <td>27445.000000</td>\n",
              "      <td>779.00000</td>\n",
              "      <td>NaN</td>\n",
              "      <td>NaN</td>\n",
              "      <td>NaN</td>\n",
              "      <td>NaN</td>\n",
              "      <td>NaN</td>\n",
              "    </tr>\n",
              "  </tbody>\n",
              "</table>\n",
              "</div>"
            ],
            "text/plain": [
              "                 id  numSubscribers    numReviews  numPublishedLectures  \\\n",
              "count  1.200000e+03     1200.000000   1200.000000            1200.00000   \n",
              "mean   7.068543e+05     6650.476667    356.579167              52.81750   \n",
              "std    3.289244e+05    14613.648207   1575.217659              62.81375   \n",
              "min    8.324000e+03       19.000000   -602.000000               5.00000   \n",
              "25%    4.757115e+05     1127.500000     25.000000              19.00000   \n",
              "50%    7.384560e+05     2416.500000     64.500000              32.00000   \n",
              "75%    9.752715e+05     6894.750000    178.250000              63.25000   \n",
              "max    1.277924e+06   268923.000000  27445.000000             779.00000   \n",
              "\n",
              "       Unnamed: 11  Unnamed: 12  Unnamed: 13  Unnamed: 14  Unnamed: 15  \n",
              "count          0.0          0.0          0.0          0.0          0.0  \n",
              "mean           NaN          NaN          NaN          NaN          NaN  \n",
              "std            NaN          NaN          NaN          NaN          NaN  \n",
              "min            NaN          NaN          NaN          NaN          NaN  \n",
              "25%            NaN          NaN          NaN          NaN          NaN  \n",
              "50%            NaN          NaN          NaN          NaN          NaN  \n",
              "75%            NaN          NaN          NaN          NaN          NaN  \n",
              "max            NaN          NaN          NaN          NaN          NaN  "
            ]
          },
          "execution_count": 434,
          "metadata": {},
          "output_type": "execute_result"
        }
      ],
      "source": [
        "# check the summary statistics for the numeric column\n",
        "df.describe()"
      ]
    },
    {
      "cell_type": "code",
      "execution_count": null,
      "id": "7a915e7b",
      "metadata": {
        "scrolled": true,
        "id": "7a915e7b"
      },
      "outputs": [],
      "source": [
        "# dropping unwanted columns\n",
        "df.drop(['Unnamed: 11','Unnamed: 12','Unnamed: 13','Unnamed: 14','Unnamed: 15'], axis= 1, inplace = True)"
      ]
    },
    {
      "cell_type": "code",
      "execution_count": null,
      "id": "ff02e23c",
      "metadata": {
        "id": "ff02e23c",
        "outputId": "b68c097d-c6a4-4774-d2eb-1af48fe3320d"
      },
      "outputs": [
        {
          "data": {
            "text/html": [
              "<div>\n",
              "<style scoped>\n",
              "    .dataframe tbody tr th:only-of-type {\n",
              "        vertical-align: middle;\n",
              "    }\n",
              "\n",
              "    .dataframe tbody tr th {\n",
              "        vertical-align: top;\n",
              "    }\n",
              "\n",
              "    .dataframe thead th {\n",
              "        text-align: right;\n",
              "    }\n",
              "</style>\n",
              "<table border=\"1\" class=\"dataframe\">\n",
              "  <thead>\n",
              "    <tr style=\"text-align: right;\">\n",
              "      <th></th>\n",
              "      <th>id</th>\n",
              "      <th>title</th>\n",
              "      <th>url</th>\n",
              "      <th>isPaid</th>\n",
              "      <th>price</th>\n",
              "      <th>numSubscribers</th>\n",
              "      <th>numReviews</th>\n",
              "      <th>numPublishedLectures</th>\n",
              "      <th>instructionalLevel</th>\n",
              "      <th>contentInfo</th>\n",
              "      <th>publishedTime</th>\n",
              "    </tr>\n",
              "  </thead>\n",
              "  <tbody>\n",
              "    <tr>\n",
              "      <th>0</th>\n",
              "      <td>28295</td>\n",
              "      <td>Learn Web Designing &amp; HTML5/CSS3 Essentials in...</td>\n",
              "      <td>https://www.udemy.com/build-beautiful-html5-we...</td>\n",
              "      <td>TRUE</td>\n",
              "      <td>75</td>\n",
              "      <td>43285</td>\n",
              "      <td>525</td>\n",
              "      <td>24</td>\n",
              "      <td>All Levels</td>\n",
              "      <td>4 hours</td>\n",
              "      <td>2013-01-03T00:55:31Z</td>\n",
              "    </tr>\n",
              "    <tr>\n",
              "      <th>1</th>\n",
              "      <td>19603</td>\n",
              "      <td>Learning Dynamic Website Design - PHP MySQL an...</td>\n",
              "      <td>https://www.udemy.com/learning-dynamic-website...</td>\n",
              "      <td>1</td>\n",
              "      <td>50</td>\n",
              "      <td>47886</td>\n",
              "      <td>285</td>\n",
              "      <td>125</td>\n",
              "      <td>all levels</td>\n",
              "      <td>12.5 hours</td>\n",
              "      <td>2012-06-18T16:52:34Z</td>\n",
              "    </tr>\n",
              "    <tr>\n",
              "      <th>2</th>\n",
              "      <td>889438</td>\n",
              "      <td>ChatBots: Messenger ChatBot with API.AI and No...</td>\n",
              "      <td>https://www.udemy.com/chatbots/</td>\n",
              "      <td>1</td>\n",
              "      <td>50</td>\n",
              "      <td>2577</td>\n",
              "      <td>529</td>\n",
              "      <td>64</td>\n",
              "      <td>All Levels</td>\n",
              "      <td>4.5 hours</td>\n",
              "      <td>2016-06-30T16:57:08Z</td>\n",
              "    </tr>\n",
              "    <tr>\n",
              "      <th>3</th>\n",
              "      <td>197836</td>\n",
              "      <td>Projects in HTML5</td>\n",
              "      <td>https://www.udemy.com/projects-in-html5/</td>\n",
              "      <td>1</td>\n",
              "      <td>60</td>\n",
              "      <td>8777</td>\n",
              "      <td>206</td>\n",
              "      <td>75</td>\n",
              "      <td>Intermediate Level</td>\n",
              "      <td>15.5 hours</td>\n",
              "      <td>2014-06-17T05:43:50Z</td>\n",
              "    </tr>\n",
              "    <tr>\n",
              "      <th>4</th>\n",
              "      <td>505208</td>\n",
              "      <td>Programming Foundations: HTML5 + CSS3 for Entr...</td>\n",
              "      <td>https://www.udemy.com/html-css-more/</td>\n",
              "      <td>1</td>\n",
              "      <td>20</td>\n",
              "      <td>23764</td>\n",
              "      <td>490</td>\n",
              "      <td>58</td>\n",
              "      <td>beginner</td>\n",
              "      <td>5.5 hours</td>\n",
              "      <td>2015-10-17T04:52:25Z</td>\n",
              "    </tr>\n",
              "  </tbody>\n",
              "</table>\n",
              "</div>"
            ],
            "text/plain": [
              "       id                                              title  \\\n",
              "0   28295  Learn Web Designing & HTML5/CSS3 Essentials in...   \n",
              "1   19603  Learning Dynamic Website Design - PHP MySQL an...   \n",
              "2  889438  ChatBots: Messenger ChatBot with API.AI and No...   \n",
              "3  197836                                  Projects in HTML5   \n",
              "4  505208  Programming Foundations: HTML5 + CSS3 for Entr...   \n",
              "\n",
              "                                                 url isPaid price  \\\n",
              "0  https://www.udemy.com/build-beautiful-html5-we...   TRUE    75   \n",
              "1  https://www.udemy.com/learning-dynamic-website...      1    50   \n",
              "2                    https://www.udemy.com/chatbots/      1    50   \n",
              "3           https://www.udemy.com/projects-in-html5/      1    60   \n",
              "4               https://www.udemy.com/html-css-more/      1    20   \n",
              "\n",
              "   numSubscribers  numReviews  numPublishedLectures  instructionalLevel  \\\n",
              "0           43285         525                    24          All Levels   \n",
              "1           47886         285                   125          all levels   \n",
              "2            2577         529                    64          All Levels   \n",
              "3            8777         206                    75  Intermediate Level   \n",
              "4           23764         490                    58            beginner   \n",
              "\n",
              "  contentInfo         publishedTime  \n",
              "0     4 hours  2013-01-03T00:55:31Z  \n",
              "1  12.5 hours  2012-06-18T16:52:34Z  \n",
              "2   4.5 hours  2016-06-30T16:57:08Z  \n",
              "3  15.5 hours  2014-06-17T05:43:50Z  \n",
              "4   5.5 hours  2015-10-17T04:52:25Z  "
            ]
          },
          "execution_count": 436,
          "metadata": {},
          "output_type": "execute_result"
        }
      ],
      "source": [
        "df.head()"
      ]
    },
    {
      "cell_type": "code",
      "execution_count": null,
      "id": "f2f7bc0b",
      "metadata": {
        "scrolled": false,
        "id": "f2f7bc0b",
        "outputId": "9ef3171e-579a-4e82-8a11-b4268181137f"
      },
      "outputs": [
        {
          "data": {
            "text/plain": [
              "(1200, 11)"
            ]
          },
          "execution_count": 437,
          "metadata": {},
          "output_type": "execute_result"
        }
      ],
      "source": [
        "# New shape shows the columns have educed from 16 to 11\n",
        "df.shape"
      ]
    },
    {
      "cell_type": "markdown",
      "id": "7e8fca79",
      "metadata": {
        "id": "7e8fca79"
      },
      "source": [
        "#### CLEANING INDIVIDUAL COLUMNS IN THE DATAFRAME"
      ]
    },
    {
      "cell_type": "markdown",
      "id": "01f05bcc",
      "metadata": {
        "id": "01f05bcc"
      },
      "source": [
        "#### isPaid Column\n",
        "We realized that the cells contained different values ( True, 1, TRUE, FALSE) for whether the course was paid or not paid. So we replace paid course with TRUE and non-paid course with FALSE.\n"
      ]
    },
    {
      "cell_type": "code",
      "execution_count": null,
      "id": "8ec4411a",
      "metadata": {
        "id": "8ec4411a",
        "outputId": "aacbac39-a05b-4b7d-c499-79dbfda87af0"
      },
      "outputs": [
        {
          "data": {
            "text/plain": [
              "array(['TRUE', '1', 'FALSE', 'true'], dtype=object)"
            ]
          },
          "execution_count": 438,
          "metadata": {},
          "output_type": "execute_result"
        }
      ],
      "source": [
        "# checking the uniques in the column\n",
        "df.isPaid.unique()"
      ]
    },
    {
      "cell_type": "code",
      "execution_count": null,
      "id": "5cb45c2d",
      "metadata": {
        "id": "5cb45c2d"
      },
      "outputs": [],
      "source": [
        "# replacing the values in the column\n",
        "df['isPaid'] = df['isPaid'].str.replace('1', 'TRUE').str.replace('true', 'TRUE')\n"
      ]
    },
    {
      "cell_type": "code",
      "execution_count": null,
      "id": "b1a4755a",
      "metadata": {
        "id": "b1a4755a",
        "outputId": "b5143d1d-103c-4cdd-8994-6ce4045b5a96"
      },
      "outputs": [
        {
          "data": {
            "text/plain": [
              "dtype('O')"
            ]
          },
          "execution_count": 440,
          "metadata": {},
          "output_type": "execute_result"
        }
      ],
      "source": [
        "# checking the data type\n",
        "df.isPaid.dtype"
      ]
    },
    {
      "cell_type": "markdown",
      "id": "9ef7b21d",
      "metadata": {
        "id": "9ef7b21d"
      },
      "source": [
        "#### price Column\n",
        "Checked for the unique values and realized that the data contained a negative value (-20) and a free value. We checked whether the negative value was a paid course by subsetting it. Then we change the free values to zero. Transformed the data type from an object to an integer."
      ]
    },
    {
      "cell_type": "code",
      "execution_count": null,
      "id": "ec5e9490",
      "metadata": {
        "id": "ec5e9490",
        "outputId": "09035c65-cd28-4983-d33c-1bc20485ff35"
      },
      "outputs": [
        {
          "data": {
            "text/plain": [
              "array(['75', '50', '60', '20', '40', '150', '200', '195', '25', '95',\n",
              "       '-20', '100', '190', '120', '110', '165', '65', '85', '175', '70',\n",
              "       '80', '125', '145', '115', '135', 'Free', '30', '55', '35', '140',\n",
              "       '45', '180', '170', '185', '90', '105', '160'], dtype=object)"
            ]
          },
          "execution_count": 441,
          "metadata": {},
          "output_type": "execute_result"
        }
      ],
      "source": [
        "df.price.unique()"
      ]
    },
    {
      "cell_type": "code",
      "execution_count": null,
      "id": "2f79aec2",
      "metadata": {
        "id": "2f79aec2",
        "outputId": "f5ea6a13-36d6-449e-dd9e-8bf8273c6ee2"
      },
      "outputs": [
        {
          "data": {
            "text/html": [
              "<div>\n",
              "<style scoped>\n",
              "    .dataframe tbody tr th:only-of-type {\n",
              "        vertical-align: middle;\n",
              "    }\n",
              "\n",
              "    .dataframe tbody tr th {\n",
              "        vertical-align: top;\n",
              "    }\n",
              "\n",
              "    .dataframe thead th {\n",
              "        text-align: right;\n",
              "    }\n",
              "</style>\n",
              "<table border=\"1\" class=\"dataframe\">\n",
              "  <thead>\n",
              "    <tr style=\"text-align: right;\">\n",
              "      <th></th>\n",
              "      <th>id</th>\n",
              "      <th>title</th>\n",
              "      <th>url</th>\n",
              "      <th>isPaid</th>\n",
              "      <th>price</th>\n",
              "      <th>numSubscribers</th>\n",
              "      <th>numReviews</th>\n",
              "      <th>numPublishedLectures</th>\n",
              "      <th>instructionalLevel</th>\n",
              "      <th>contentInfo</th>\n",
              "      <th>publishedTime</th>\n",
              "    </tr>\n",
              "  </thead>\n",
              "  <tbody>\n",
              "    <tr>\n",
              "      <th>16</th>\n",
              "      <td>159070</td>\n",
              "      <td>Introduction to Web Development: HTML</td>\n",
              "      <td>https://www.udemy.com/webdevelopment101_html/</td>\n",
              "      <td>TRUE</td>\n",
              "      <td>-20</td>\n",
              "      <td>26800</td>\n",
              "      <td>333</td>\n",
              "      <td>55</td>\n",
              "      <td>Beginner Level</td>\n",
              "      <td>3 hours</td>\n",
              "      <td>2014-02-13T20:39:33Z</td>\n",
              "    </tr>\n",
              "  </tbody>\n",
              "</table>\n",
              "</div>"
            ],
            "text/plain": [
              "        id                                  title  \\\n",
              "16  159070  Introduction to Web Development: HTML   \n",
              "\n",
              "                                              url isPaid price  \\\n",
              "16  https://www.udemy.com/webdevelopment101_html/   TRUE   -20   \n",
              "\n",
              "    numSubscribers  numReviews  numPublishedLectures instructionalLevel  \\\n",
              "16           26800         333                    55     Beginner Level   \n",
              "\n",
              "   contentInfo         publishedTime  \n",
              "16     3 hours  2014-02-13T20:39:33Z  "
            ]
          },
          "execution_count": 442,
          "metadata": {},
          "output_type": "execute_result"
        }
      ],
      "source": [
        "# subseting the row with the negative price value\n",
        "df[df['price'] == '-20']"
      ]
    },
    {
      "cell_type": "code",
      "execution_count": null,
      "id": "c8a52fcf",
      "metadata": {
        "id": "c8a52fcf",
        "outputId": "e58d4cab-1348-43df-9997-ed2d3daec546"
      },
      "outputs": [
        {
          "data": {
            "text/html": [
              "<div>\n",
              "<style scoped>\n",
              "    .dataframe tbody tr th:only-of-type {\n",
              "        vertical-align: middle;\n",
              "    }\n",
              "\n",
              "    .dataframe tbody tr th {\n",
              "        vertical-align: top;\n",
              "    }\n",
              "\n",
              "    .dataframe thead th {\n",
              "        text-align: right;\n",
              "    }\n",
              "</style>\n",
              "<table border=\"1\" class=\"dataframe\">\n",
              "  <thead>\n",
              "    <tr style=\"text-align: right;\">\n",
              "      <th></th>\n",
              "      <th>id</th>\n",
              "      <th>title</th>\n",
              "      <th>url</th>\n",
              "      <th>isPaid</th>\n",
              "      <th>price</th>\n",
              "      <th>numSubscribers</th>\n",
              "      <th>numReviews</th>\n",
              "      <th>numPublishedLectures</th>\n",
              "      <th>instructionalLevel</th>\n",
              "      <th>contentInfo</th>\n",
              "      <th>publishedTime</th>\n",
              "    </tr>\n",
              "  </thead>\n",
              "  <tbody>\n",
              "    <tr>\n",
              "      <th>96</th>\n",
              "      <td>628222</td>\n",
              "      <td>How to Make an Online Portfolio Website from S...</td>\n",
              "      <td>https://www.udemy.com/how-to-make-a-portfolio-...</td>\n",
              "      <td>FALSE</td>\n",
              "      <td>Free</td>\n",
              "      <td>14026</td>\n",
              "      <td>232</td>\n",
              "      <td>25</td>\n",
              "      <td>All Levels</td>\n",
              "      <td>1 hour</td>\n",
              "      <td>2015-10-02T22:59:15Z</td>\n",
              "    </tr>\n",
              "    <tr>\n",
              "      <th>97</th>\n",
              "      <td>1122224</td>\n",
              "      <td>How To Make A Web Page With No Code</td>\n",
              "      <td>https://www.udemy.com/how-to-make-a-web-page-w...</td>\n",
              "      <td>FALSE</td>\n",
              "      <td>Free</td>\n",
              "      <td>2214</td>\n",
              "      <td>20</td>\n",
              "      <td>23</td>\n",
              "      <td>Beginner Level</td>\n",
              "      <td>2 hours</td>\n",
              "      <td>2017-03-23T00:06:48Z</td>\n",
              "    </tr>\n",
              "    <tr>\n",
              "      <th>98</th>\n",
              "      <td>357726</td>\n",
              "      <td>Spring Framework 4 And Dependency Injection Fo...</td>\n",
              "      <td>https://www.udemy.com/spring-framework-video-t...</td>\n",
              "      <td>FALSE</td>\n",
              "      <td>Free</td>\n",
              "      <td>21147</td>\n",
              "      <td>1220</td>\n",
              "      <td>16</td>\n",
              "      <td>Beginner Level</td>\n",
              "      <td>1.5 hours</td>\n",
              "      <td>2015-01-16T07:45:28Z</td>\n",
              "    </tr>\n",
              "    <tr>\n",
              "      <th>99</th>\n",
              "      <td>162274</td>\n",
              "      <td>Joomla 3 - The Basics</td>\n",
              "      <td>https://www.udemy.com/joomla-3-the-basics/</td>\n",
              "      <td>FALSE</td>\n",
              "      <td>Free</td>\n",
              "      <td>19909</td>\n",
              "      <td>411</td>\n",
              "      <td>17</td>\n",
              "      <td>Beginner Level</td>\n",
              "      <td>3 hours</td>\n",
              "      <td>2014-02-12T01:54:02Z</td>\n",
              "    </tr>\n",
              "    <tr>\n",
              "      <th>101</th>\n",
              "      <td>708674</td>\n",
              "      <td>Master WordPress Plugins: Shortcodes Ultimate ...</td>\n",
              "      <td>https://www.udemy.com/master-popular-wordpress...</td>\n",
              "      <td>FALSE</td>\n",
              "      <td>Free</td>\n",
              "      <td>10780</td>\n",
              "      <td>110</td>\n",
              "      <td>19</td>\n",
              "      <td>All Levels</td>\n",
              "      <td>1 hour</td>\n",
              "      <td>2016-01-14T18:03:09Z</td>\n",
              "    </tr>\n",
              "    <tr>\n",
              "      <th>...</th>\n",
              "      <td>...</td>\n",
              "      <td>...</td>\n",
              "      <td>...</td>\n",
              "      <td>...</td>\n",
              "      <td>...</td>\n",
              "      <td>...</td>\n",
              "      <td>...</td>\n",
              "      <td>...</td>\n",
              "      <td>...</td>\n",
              "      <td>...</td>\n",
              "      <td>...</td>\n",
              "    </tr>\n",
              "    <tr>\n",
              "      <th>1160</th>\n",
              "      <td>155640</td>\n",
              "      <td>Building a Search Engine in PHP &amp; MySQL</td>\n",
              "      <td>https://www.udemy.com/creating-a-search-engine...</td>\n",
              "      <td>FALSE</td>\n",
              "      <td>Free</td>\n",
              "      <td>10110</td>\n",
              "      <td>379</td>\n",
              "      <td>12</td>\n",
              "      <td>All Levels</td>\n",
              "      <td>2.5 hours</td>\n",
              "      <td>2014-02-03T18:07:52Z</td>\n",
              "    </tr>\n",
              "    <tr>\n",
              "      <th>1165</th>\n",
              "      <td>366720</td>\n",
              "      <td>CSS Image filters - The modern web images colo...</td>\n",
              "      <td>https://www.udemy.com/super-awesome-images-wit...</td>\n",
              "      <td>FALSE</td>\n",
              "      <td>Free</td>\n",
              "      <td>6315</td>\n",
              "      <td>53</td>\n",
              "      <td>16</td>\n",
              "      <td>All Levels</td>\n",
              "      <td>1.5 hours</td>\n",
              "      <td>2014-12-10T19:43:40Z</td>\n",
              "    </tr>\n",
              "    <tr>\n",
              "      <th>1173</th>\n",
              "      <td>1079078</td>\n",
              "      <td>Drupal 8 Site Building</td>\n",
              "      <td>https://www.udemy.com/drupal-8-site-building/</td>\n",
              "      <td>FALSE</td>\n",
              "      <td>Free</td>\n",
              "      <td>1942</td>\n",
              "      <td>23</td>\n",
              "      <td>48</td>\n",
              "      <td>All Levels</td>\n",
              "      <td>4.5 hours</td>\n",
              "      <td>2017-05-02T05:15:52Z</td>\n",
              "    </tr>\n",
              "    <tr>\n",
              "      <th>1187</th>\n",
              "      <td>21386</td>\n",
              "      <td>Beginner Photoshop to HTML5 and CSS3</td>\n",
              "      <td>https://www.udemy.com/psd-html5-css3/</td>\n",
              "      <td>FALSE</td>\n",
              "      <td>Free</td>\n",
              "      <td>73110</td>\n",
              "      <td>1716</td>\n",
              "      <td>22</td>\n",
              "      <td>All Levels</td>\n",
              "      <td>2 hours</td>\n",
              "      <td>2012-07-27T12:54:57Z</td>\n",
              "    </tr>\n",
              "    <tr>\n",
              "      <th>1190</th>\n",
              "      <td>270976</td>\n",
              "      <td>A how to guide in HTML</td>\n",
              "      <td>https://www.udemy.com/a-how-to-guide-in-html/</td>\n",
              "      <td>FALSE</td>\n",
              "      <td>Free</td>\n",
              "      <td>7318</td>\n",
              "      <td>205</td>\n",
              "      <td>8</td>\n",
              "      <td>Beginner Level</td>\n",
              "      <td>35 mins</td>\n",
              "      <td>2014-08-10T20:19:10Z</td>\n",
              "    </tr>\n",
              "  </tbody>\n",
              "</table>\n",
              "<p>133 rows × 11 columns</p>\n",
              "</div>"
            ],
            "text/plain": [
              "           id                                              title  \\\n",
              "96     628222  How to Make an Online Portfolio Website from S...   \n",
              "97    1122224                How To Make A Web Page With No Code   \n",
              "98     357726  Spring Framework 4 And Dependency Injection Fo...   \n",
              "99     162274                              Joomla 3 - The Basics   \n",
              "101    708674  Master WordPress Plugins: Shortcodes Ultimate ...   \n",
              "...       ...                                                ...   \n",
              "1160   155640            Building a Search Engine in PHP & MySQL   \n",
              "1165   366720  CSS Image filters - The modern web images colo...   \n",
              "1173  1079078                             Drupal 8 Site Building   \n",
              "1187    21386               Beginner Photoshop to HTML5 and CSS3   \n",
              "1190   270976                             A how to guide in HTML   \n",
              "\n",
              "                                                    url isPaid price  \\\n",
              "96    https://www.udemy.com/how-to-make-a-portfolio-...  FALSE  Free   \n",
              "97    https://www.udemy.com/how-to-make-a-web-page-w...  FALSE  Free   \n",
              "98    https://www.udemy.com/spring-framework-video-t...  FALSE  Free   \n",
              "99           https://www.udemy.com/joomla-3-the-basics/  FALSE  Free   \n",
              "101   https://www.udemy.com/master-popular-wordpress...  FALSE  Free   \n",
              "...                                                 ...    ...   ...   \n",
              "1160  https://www.udemy.com/creating-a-search-engine...  FALSE  Free   \n",
              "1165  https://www.udemy.com/super-awesome-images-wit...  FALSE  Free   \n",
              "1173      https://www.udemy.com/drupal-8-site-building/  FALSE  Free   \n",
              "1187              https://www.udemy.com/psd-html5-css3/  FALSE  Free   \n",
              "1190      https://www.udemy.com/a-how-to-guide-in-html/  FALSE  Free   \n",
              "\n",
              "      numSubscribers  numReviews  numPublishedLectures instructionalLevel  \\\n",
              "96             14026         232                    25         All Levels   \n",
              "97              2214          20                    23     Beginner Level   \n",
              "98             21147        1220                    16     Beginner Level   \n",
              "99             19909         411                    17     Beginner Level   \n",
              "101            10780         110                    19         All Levels   \n",
              "...              ...         ...                   ...                ...   \n",
              "1160           10110         379                    12         All Levels   \n",
              "1165            6315          53                    16         All Levels   \n",
              "1173            1942          23                    48         All Levels   \n",
              "1187           73110        1716                    22         All Levels   \n",
              "1190            7318         205                     8     Beginner Level   \n",
              "\n",
              "     contentInfo         publishedTime  \n",
              "96        1 hour  2015-10-02T22:59:15Z  \n",
              "97       2 hours  2017-03-23T00:06:48Z  \n",
              "98     1.5 hours  2015-01-16T07:45:28Z  \n",
              "99       3 hours  2014-02-12T01:54:02Z  \n",
              "101       1 hour  2016-01-14T18:03:09Z  \n",
              "...          ...                   ...  \n",
              "1160   2.5 hours  2014-02-03T18:07:52Z  \n",
              "1165   1.5 hours  2014-12-10T19:43:40Z  \n",
              "1173   4.5 hours  2017-05-02T05:15:52Z  \n",
              "1187     2 hours  2012-07-27T12:54:57Z  \n",
              "1190     35 mins  2014-08-10T20:19:10Z  \n",
              "\n",
              "[133 rows x 11 columns]"
            ]
          },
          "execution_count": 443,
          "metadata": {},
          "output_type": "execute_result"
        }
      ],
      "source": [
        "# subsetting the rows with free price value\n",
        "df[df['price'] == 'Free']"
      ]
    },
    {
      "cell_type": "code",
      "execution_count": null,
      "id": "114db812",
      "metadata": {
        "id": "114db812"
      },
      "outputs": [],
      "source": [
        "df['price'] = df['price'].str.replace('Free', '0').str.replace('-20', '20').astype('int')"
      ]
    },
    {
      "cell_type": "code",
      "execution_count": null,
      "id": "5838de55",
      "metadata": {
        "id": "5838de55",
        "outputId": "49892ee6-c332-4737-e24b-74c3ddc1c4d3"
      },
      "outputs": [
        {
          "data": {
            "text/plain": [
              "dtype('int32')"
            ]
          },
          "execution_count": 445,
          "metadata": {},
          "output_type": "execute_result"
        }
      ],
      "source": [
        "df['price'].dtypes"
      ]
    },
    {
      "cell_type": "markdown",
      "id": "b6ca8cd5",
      "metadata": {
        "id": "b6ca8cd5"
      },
      "source": [
        "#### numsubscribers Column\n",
        "There was no cleaning needed for this column"
      ]
    },
    {
      "cell_type": "code",
      "execution_count": null,
      "id": "1b33e66a",
      "metadata": {
        "id": "1b33e66a",
        "outputId": "30e7748d-5419-4e7a-fd71-6f367b0a93d9"
      },
      "outputs": [
        {
          "name": "stdout",
          "output_type": "stream",
          "text": [
            "[43285 47886  2577 ...   306   513   901]\n"
          ]
        },
        {
          "data": {
            "text/plain": [
              "1112"
            ]
          },
          "execution_count": 446,
          "metadata": {},
          "output_type": "execute_result"
        }
      ],
      "source": [
        "print(df['numSubscribers'].unique())\n",
        "len(df['numSubscribers'].unique())"
      ]
    },
    {
      "cell_type": "markdown",
      "id": "d0bd3f56",
      "metadata": {
        "id": "d0bd3f56"
      },
      "source": [
        "#### numReviews Column\n",
        "Replaced the negative values to a positve one because reviews of a project can not be negative."
      ]
    },
    {
      "cell_type": "code",
      "execution_count": null,
      "id": "39e67481",
      "metadata": {
        "id": "39e67481",
        "outputId": "a9ca6724-3313-43dd-af01-3e8c09c1365d"
      },
      "outputs": [
        {
          "data": {
            "text/plain": [
              "array([  525,   285,   529,   206,   490,   202,  -112,   359,   178,\n",
              "         210,   540,  -351,   167,   253,   220,   106,   333,   147,\n",
              "          94,   217,   317,   218,   110,   131,   848,   506,  1017,\n",
              "         655,   820,   662,  1445,  1981,   104,  1358,  1304,   418,\n",
              "          73,    38,    52,    56,    59,    35,    21,    41,   200,\n",
              "          83,   324,    13,   401,   198,   368,   137,   142,   116,\n",
              "         193,   277,   111,   223,    46,   340,     6,    76,   201,\n",
              "          75,    43,    53,    49,    31,   237,   783,   121,   312,\n",
              "         268,   117,   215,   212,   674,   165,   680,   395,   188,\n",
              "         414,  1111,   331,   941,   129,    72,   179,   799,   836,\n",
              "         453,   997,   232,    20,  1220,   411,    89,     8,    82,\n",
              "          23,    64,    80,     0,  6512,  4047,    16,     7,    30,\n",
              "         139,   473,    79,    34,   118,  1097,    57,   173,   159,\n",
              "         276,    78,   216,   219,   105,  2685,    96,   423,   102,\n",
              "           5,    81,   169,    69,   970,   570,   901,   876,   303,\n",
              "         286,   302,   629,   292,   262,    62,   125,   164,  1342,\n",
              "         314,   114,    47,   978,   522,    44,   101,    63,   874,\n",
              "          68,    88,   243,    24,    27,   160,    37,    29,    50,\n",
              "         231,   306,    17,   291,     4,     9,   185,   138,    22,\n",
              "          10,  1838,   330,  1548,   531,   622,   660,  1090,  2408,\n",
              "        1846,   497,   214,   627,   931,   383,   134,    26,   329,\n",
              "         685,   466,    65,   523,    11,   120,    12,   514,   589,\n",
              "          28,   742,   471,   174,   144,    92,   136,    90,   213,\n",
              "          15,    61,    60,   258,    48,   228,    93,    39,    32,\n",
              "        1005,  2575,  5924,    33,   183,    14,   415,   463,   482,\n",
              "         224,  1813,   260,    99,   247,   380,   450,    95,  1112,\n",
              "         126,  8629,   441,   154,   354,    74,   750,   108,    71,\n",
              "          51,   115,   112,     1,    42,    40,   107,   358,    45,\n",
              "          19,   166,    18,    54,   145,   439,   172,   278,   242,\n",
              "          85,    91,   239,    55,   393,   245,    36,    77,   261,\n",
              "         989,    25,    84,   133,   195,  1106,   141,   249,     2,\n",
              "         171,   435,   119,   162,   235,   279,    97,   311,    58,\n",
              "          87,   318,   536,   416,   438,   130,   365,  -602,   508,\n",
              "         721,   360,  1724,   527,  1213,   372,   688,   983,   620,\n",
              "         407,   128,   489,    67,   150,  1225,   384,   382,   634,\n",
              "         434,   780,   526,   123,   149,   850,  1883,  1375,   828,\n",
              "         737, 19649,  1955,  4316,   676,  3809,  3137,   283,    86,\n",
              "         103,  2692,  1286,   241,  4675,   288,  4340,  3166,  8341,\n",
              "        1384, 27445,  2144, 22412,  4434,   914,   561,  2618,   271,\n",
              "         313, 11580, 16976,  1893,  7106,  2709, 11123,  1560,  3326,\n",
              "       15117,   307,  6357,   987,     3,   615,  4598,   945,  1236,\n",
              "         386,   152,   689,   132,  1080,   135,  5660,    98,  2104,\n",
              "         177,   146,   336,   148,   240,   546,  1948,   163,  5590,\n",
              "         406,   161,   290,   304,   346,   180,   521,   196,   221,\n",
              "         309,   319,   300,   143,  1036,  1234,   394,   390,   425,\n",
              "         203,   379,  1716,   205,   113], dtype=int64)"
            ]
          },
          "execution_count": 447,
          "metadata": {},
          "output_type": "execute_result"
        }
      ],
      "source": [
        "df['numReviews'].unique()"
      ]
    },
    {
      "cell_type": "code",
      "execution_count": null,
      "id": "13fa0725",
      "metadata": {
        "id": "13fa0725",
        "outputId": "23a8b212-5c98-4c84-fda4-94edfa1cebba"
      },
      "outputs": [
        {
          "data": {
            "text/html": [
              "<div>\n",
              "<style scoped>\n",
              "    .dataframe tbody tr th:only-of-type {\n",
              "        vertical-align: middle;\n",
              "    }\n",
              "\n",
              "    .dataframe tbody tr th {\n",
              "        vertical-align: top;\n",
              "    }\n",
              "\n",
              "    .dataframe thead th {\n",
              "        text-align: right;\n",
              "    }\n",
              "</style>\n",
              "<table border=\"1\" class=\"dataframe\">\n",
              "  <thead>\n",
              "    <tr style=\"text-align: right;\">\n",
              "      <th></th>\n",
              "      <th>id</th>\n",
              "      <th>title</th>\n",
              "      <th>url</th>\n",
              "      <th>isPaid</th>\n",
              "      <th>price</th>\n",
              "      <th>numSubscribers</th>\n",
              "      <th>numReviews</th>\n",
              "      <th>numPublishedLectures</th>\n",
              "      <th>instructionalLevel</th>\n",
              "      <th>contentInfo</th>\n",
              "      <th>publishedTime</th>\n",
              "    </tr>\n",
              "  </thead>\n",
              "  <tbody>\n",
              "    <tr>\n",
              "      <th>6</th>\n",
              "      <td>1094964</td>\n",
              "      <td>Build Your Own Backend REST API using Django R...</td>\n",
              "      <td>https://www.udemy.com/django-python/</td>\n",
              "      <td>TRUE</td>\n",
              "      <td>50</td>\n",
              "      <td>2669</td>\n",
              "      <td>-112</td>\n",
              "      <td>72</td>\n",
              "      <td>INTERMEDIATE</td>\n",
              "      <td>5.5 hours</td>\n",
              "      <td>2017-04-27T19:21:11Z</td>\n",
              "    </tr>\n",
              "  </tbody>\n",
              "</table>\n",
              "</div>"
            ],
            "text/plain": [
              "        id                                              title  \\\n",
              "6  1094964  Build Your Own Backend REST API using Django R...   \n",
              "\n",
              "                                    url isPaid  price  numSubscribers  \\\n",
              "6  https://www.udemy.com/django-python/   TRUE     50            2669   \n",
              "\n",
              "   numReviews  numPublishedLectures instructionalLevel contentInfo  \\\n",
              "6        -112                    72       INTERMEDIATE   5.5 hours   \n",
              "\n",
              "          publishedTime  \n",
              "6  2017-04-27T19:21:11Z  "
            ]
          },
          "execution_count": 448,
          "metadata": {},
          "output_type": "execute_result"
        }
      ],
      "source": [
        "df[df['numReviews'] == -112]"
      ]
    },
    {
      "cell_type": "code",
      "execution_count": null,
      "id": "21b7c881",
      "metadata": {
        "id": "21b7c881"
      },
      "outputs": [],
      "source": [
        "df['numReviews'] = df['numReviews'].replace(-112,112).replace(-351,351).replace(-602,602)"
      ]
    },
    {
      "cell_type": "markdown",
      "id": "3315967b",
      "metadata": {
        "id": "3315967b"
      },
      "source": [
        "#### numPublishedLectures Column\n",
        "We stripped the empty spaces and changed the values to All, Beginner, Intermediate and Expert. The column data type was changed to a category."
      ]
    },
    {
      "cell_type": "code",
      "execution_count": null,
      "id": "9feab5d0",
      "metadata": {
        "id": "9feab5d0",
        "outputId": "30140dca-ec81-4694-a6cc-3b468b787bbc"
      },
      "outputs": [
        {
          "data": {
            "text/plain": [
              "array([ 24, 125,  64,  75,  58,  37,  72,  65, 348,  39,  67,  63,  19,\n",
              "        82,  32,  46,  55,  14,  29,  53,  49, 402,  17, 135, 120, 126,\n",
              "        77, 171,  61,  89,  50,  74,  26, 212,  36,  52,  34,  27,  16,\n",
              "        15,  10,  43,   8,  48,  28,  23,  60,  20,  95,  18,  31,  70,\n",
              "        25,  11,  59, 107,  73, 160,  66,  69,  93,  83,  22, 133, 110,\n",
              "       138,  80, 251, 207,  90,  97,  12,  38,  42,  99, 454, 115,  40,\n",
              "        54, 123, 281, 112,  30,  21,  88, 221, 159,  45, 178,  68,   7,\n",
              "        87,  91,  47,  84,  57,  86,  13, 308, 197, 162, 129,  41, 185,\n",
              "       174, 145, 779, 117, 188, 136,  62, 132, 109,  71,  33, 195, 118,\n",
              "       536, 143,  35,  94,  44, 131, 316, 330, 140,  56,  78,   9, 157,\n",
              "        92, 122,  76, 179, 224, 204, 104, 491, 101,   6, 116, 214, 113,\n",
              "       168, 108,  79, 173, 384,  98, 172, 103, 102, 144, 147, 114, 191,\n",
              "       329, 286,  96, 283, 142, 111, 194, 342, 304, 246,   5, 353,  85,\n",
              "       137, 119, 150,  51, 100,  81, 154, 106, 124, 161, 301, 458, 215,\n",
              "       271, 239, 177, 320, 358, 152], dtype=int64)"
            ]
          },
          "execution_count": 450,
          "metadata": {},
          "output_type": "execute_result"
        }
      ],
      "source": [
        "df['numPublishedLectures'].unique()"
      ]
    },
    {
      "cell_type": "code",
      "execution_count": null,
      "id": "f8109378",
      "metadata": {
        "id": "f8109378",
        "outputId": "793bc803-de5d-49c0-d4fe-73317535fd12"
      },
      "outputs": [
        {
          "data": {
            "text/plain": [
              "array(['All Levels', 'all levels', 'Intermediate Level', 'beginner',\n",
              "       'Beginner Level', 'INTERMEDIATE', 'all', 'ALLEVELs', 'BEGINNER',\n",
              "       'Expert Level'], dtype=object)"
            ]
          },
          "execution_count": 451,
          "metadata": {},
          "output_type": "execute_result"
        }
      ],
      "source": [
        "df['instructionalLevel'] = df['instructionalLevel'].str.strip()\n",
        "df['instructionalLevel'].unique()"
      ]
    },
    {
      "cell_type": "code",
      "execution_count": null,
      "id": "c33f2e11",
      "metadata": {
        "id": "c33f2e11"
      },
      "outputs": [],
      "source": [
        "df['instructionalLevel'] = df['instructionalLevel'].replace(['All Levels','all levels','all','ALLEVELs'],\n",
        "                                                            'All')\\\n",
        "                        .replace(['beginner','Beginner Level','Beginner Level','BEGINNER'],'Beginner')\\\n",
        "                        .replace(['Intermediate Level','INTERMEDIATE'], 'Intermediate')\\\n",
        "                        .replace('Expert Level', 'Expert')\\\n",
        "                        .astype('category')"
      ]
    },
    {
      "cell_type": "code",
      "execution_count": null,
      "id": "d1c98e5c",
      "metadata": {
        "id": "d1c98e5c",
        "outputId": "9ece4988-d9d6-4721-bc06-cd6a12d0a162"
      },
      "outputs": [
        {
          "data": {
            "text/plain": [
              "['All', 'Intermediate', 'Beginner', 'Expert']\n",
              "Categories (4, object): ['All', 'Intermediate', 'Beginner', 'Expert']"
            ]
          },
          "execution_count": 453,
          "metadata": {},
          "output_type": "execute_result"
        }
      ],
      "source": [
        "df['instructionalLevel'].unique()"
      ]
    },
    {
      "cell_type": "markdown",
      "id": "aa58f0c7",
      "metadata": {
        "id": "aa58f0c7"
      },
      "source": [
        "#### contentInfo Column\n",
        "We converted the hours into minutes and changed the column name to reflect the change."
      ]
    },
    {
      "cell_type": "code",
      "execution_count": null,
      "id": "06e3486a",
      "metadata": {
        "id": "06e3486a",
        "outputId": "d821c8af-f75e-4f7d-ca70-55112145b29c"
      },
      "outputs": [
        {
          "data": {
            "text/plain": [
              "array(['4 hours', '12.5 hours', '4.5 hours', '15.5 hours', '5.5 hours',\n",
              "       '5 hours', '19.5 hours', '7 hours', '6 hours', '1.5 hours',\n",
              "       '3.5 hours', '12 hours', '3 hours', '32.5 hours', '1 hour',\n",
              "       '9.5 hours', '9 hours', '7.5 hours', '18.5 hours', '19 hours',\n",
              "       '15 hours', '20.5 hours', '13.5 hours', '37.5 hours', '14.5 hours',\n",
              "       '2 hours', '2.5 hours', '17.5 hours', '10 hours', '8.5 hours',\n",
              "       '6.5 hours', '8 hours', '10.5 hours', '25 hours', '11 hours',\n",
              "       '20 hours', '25.5 hours', '45 hours', '33 hours', '16 hours',\n",
              "       '11.5 hours', '60 hours', '16.5 hours', '22.5 hours', '23 hours',\n",
              "       '18 hours', '13 hours', '33 mins', '14 hours', '29.5 hours',\n",
              "       '21.5 hours', '31.5 hours', '27.5 hours', '44.5 hours', '36 mins',\n",
              "       '24.5 hours', '40 mins', '51 hours', '43 mins', '42 mins',\n",
              "       '37 mins', '32 mins', '34 mins', '17 hours', '41 mins', '44 mins',\n",
              "       '35 mins', '57 hours', '38 mins', '39 mins', '76.5 hours',\n",
              "       '22 hours', '30.5 hours', '43 hours', '42 hours', '26.5 hours',\n",
              "       '26 hours', '21 hours', '30 mins', '48.5 hours', '31 mins',\n",
              "       '23.5 hours', '66.5 hours'], dtype=object)"
            ]
          },
          "execution_count": 454,
          "metadata": {},
          "output_type": "execute_result"
        }
      ],
      "source": [
        "df['contentInfo'].unique()"
      ]
    },
    {
      "cell_type": "code",
      "execution_count": null,
      "id": "badedcfb",
      "metadata": {
        "id": "badedcfb"
      },
      "outputs": [],
      "source": [
        "# using apply method to evaluate the conversion to minutes.\n",
        "df['contentInfo'] = df['contentInfo'].str.replace(' hours', '*60').str.replace(' hour', '*60')\\\n",
        "                   .str.replace(' mins','*1').apply(eval)"
      ]
    },
    {
      "cell_type": "code",
      "execution_count": null,
      "id": "cc42e861",
      "metadata": {
        "scrolled": true,
        "id": "cc42e861",
        "outputId": "65f809f9-9c61-41c3-eaa4-3a2504fe7875"
      },
      "outputs": [
        {
          "data": {
            "text/plain": [
              "Index(['id', 'title', 'url', 'isPaid', 'price', 'numSubscribers', 'numReviews',\n",
              "       'numPublishedLectures', 'instructionalLevel', 'contentInfo',\n",
              "       'publishedTime'],\n",
              "      dtype='object')"
            ]
          },
          "execution_count": 456,
          "metadata": {},
          "output_type": "execute_result"
        }
      ],
      "source": [
        "df.columns"
      ]
    },
    {
      "cell_type": "code",
      "execution_count": null,
      "id": "b9325e37",
      "metadata": {
        "id": "b9325e37"
      },
      "outputs": [],
      "source": [
        "df.columns = ['id', 'title', 'url', 'isPaid', 'price', 'numSubscribers', 'numReviews', 'numPublishedLectures', 'instructionalLevel', 'contentInfo (mins)',\n",
        "              'publishedTime'] \n"
      ]
    },
    {
      "cell_type": "code",
      "execution_count": null,
      "id": "2d40a12c",
      "metadata": {
        "scrolled": true,
        "id": "2d40a12c",
        "outputId": "f15c310c-42a5-4fd4-df60-ed478002a61d"
      },
      "outputs": [
        {
          "data": {
            "text/html": [
              "<div>\n",
              "<style scoped>\n",
              "    .dataframe tbody tr th:only-of-type {\n",
              "        vertical-align: middle;\n",
              "    }\n",
              "\n",
              "    .dataframe tbody tr th {\n",
              "        vertical-align: top;\n",
              "    }\n",
              "\n",
              "    .dataframe thead th {\n",
              "        text-align: right;\n",
              "    }\n",
              "</style>\n",
              "<table border=\"1\" class=\"dataframe\">\n",
              "  <thead>\n",
              "    <tr style=\"text-align: right;\">\n",
              "      <th></th>\n",
              "      <th>id</th>\n",
              "      <th>title</th>\n",
              "      <th>url</th>\n",
              "      <th>isPaid</th>\n",
              "      <th>price</th>\n",
              "      <th>numSubscribers</th>\n",
              "      <th>numReviews</th>\n",
              "      <th>numPublishedLectures</th>\n",
              "      <th>instructionalLevel</th>\n",
              "      <th>contentInfo (mins)</th>\n",
              "      <th>publishedTime</th>\n",
              "    </tr>\n",
              "  </thead>\n",
              "  <tbody>\n",
              "    <tr>\n",
              "      <th>0</th>\n",
              "      <td>28295</td>\n",
              "      <td>Learn Web Designing &amp; HTML5/CSS3 Essentials in...</td>\n",
              "      <td>https://www.udemy.com/build-beautiful-html5-we...</td>\n",
              "      <td>TRUE</td>\n",
              "      <td>75</td>\n",
              "      <td>43285</td>\n",
              "      <td>525</td>\n",
              "      <td>24</td>\n",
              "      <td>All</td>\n",
              "      <td>240.0</td>\n",
              "      <td>2013-01-03T00:55:31Z</td>\n",
              "    </tr>\n",
              "    <tr>\n",
              "      <th>1</th>\n",
              "      <td>19603</td>\n",
              "      <td>Learning Dynamic Website Design - PHP MySQL an...</td>\n",
              "      <td>https://www.udemy.com/learning-dynamic-website...</td>\n",
              "      <td>TRUE</td>\n",
              "      <td>50</td>\n",
              "      <td>47886</td>\n",
              "      <td>285</td>\n",
              "      <td>125</td>\n",
              "      <td>All</td>\n",
              "      <td>750.0</td>\n",
              "      <td>2012-06-18T16:52:34Z</td>\n",
              "    </tr>\n",
              "    <tr>\n",
              "      <th>2</th>\n",
              "      <td>889438</td>\n",
              "      <td>ChatBots: Messenger ChatBot with API.AI and No...</td>\n",
              "      <td>https://www.udemy.com/chatbots/</td>\n",
              "      <td>TRUE</td>\n",
              "      <td>50</td>\n",
              "      <td>2577</td>\n",
              "      <td>529</td>\n",
              "      <td>64</td>\n",
              "      <td>All</td>\n",
              "      <td>270.0</td>\n",
              "      <td>2016-06-30T16:57:08Z</td>\n",
              "    </tr>\n",
              "    <tr>\n",
              "      <th>3</th>\n",
              "      <td>197836</td>\n",
              "      <td>Projects in HTML5</td>\n",
              "      <td>https://www.udemy.com/projects-in-html5/</td>\n",
              "      <td>TRUE</td>\n",
              "      <td>60</td>\n",
              "      <td>8777</td>\n",
              "      <td>206</td>\n",
              "      <td>75</td>\n",
              "      <td>Intermediate</td>\n",
              "      <td>930.0</td>\n",
              "      <td>2014-06-17T05:43:50Z</td>\n",
              "    </tr>\n",
              "    <tr>\n",
              "      <th>4</th>\n",
              "      <td>505208</td>\n",
              "      <td>Programming Foundations: HTML5 + CSS3 for Entr...</td>\n",
              "      <td>https://www.udemy.com/html-css-more/</td>\n",
              "      <td>TRUE</td>\n",
              "      <td>20</td>\n",
              "      <td>23764</td>\n",
              "      <td>490</td>\n",
              "      <td>58</td>\n",
              "      <td>Beginner</td>\n",
              "      <td>330.0</td>\n",
              "      <td>2015-10-17T04:52:25Z</td>\n",
              "    </tr>\n",
              "  </tbody>\n",
              "</table>\n",
              "</div>"
            ],
            "text/plain": [
              "       id                                              title  \\\n",
              "0   28295  Learn Web Designing & HTML5/CSS3 Essentials in...   \n",
              "1   19603  Learning Dynamic Website Design - PHP MySQL an...   \n",
              "2  889438  ChatBots: Messenger ChatBot with API.AI and No...   \n",
              "3  197836                                  Projects in HTML5   \n",
              "4  505208  Programming Foundations: HTML5 + CSS3 for Entr...   \n",
              "\n",
              "                                                 url isPaid  price  \\\n",
              "0  https://www.udemy.com/build-beautiful-html5-we...   TRUE     75   \n",
              "1  https://www.udemy.com/learning-dynamic-website...   TRUE     50   \n",
              "2                    https://www.udemy.com/chatbots/   TRUE     50   \n",
              "3           https://www.udemy.com/projects-in-html5/   TRUE     60   \n",
              "4               https://www.udemy.com/html-css-more/   TRUE     20   \n",
              "\n",
              "   numSubscribers  numReviews  numPublishedLectures instructionalLevel  \\\n",
              "0           43285         525                    24                All   \n",
              "1           47886         285                   125                All   \n",
              "2            2577         529                    64                All   \n",
              "3            8777         206                    75       Intermediate   \n",
              "4           23764         490                    58           Beginner   \n",
              "\n",
              "   contentInfo (mins)         publishedTime  \n",
              "0               240.0  2013-01-03T00:55:31Z  \n",
              "1               750.0  2012-06-18T16:52:34Z  \n",
              "2               270.0  2016-06-30T16:57:08Z  \n",
              "3               930.0  2014-06-17T05:43:50Z  \n",
              "4               330.0  2015-10-17T04:52:25Z  "
            ]
          },
          "execution_count": 458,
          "metadata": {},
          "output_type": "execute_result"
        }
      ],
      "source": [
        "df.head()"
      ]
    },
    {
      "cell_type": "markdown",
      "id": "87bdb2de",
      "metadata": {
        "id": "87bdb2de"
      },
      "source": [
        "#### publishedTime\n",
        "Converted the column data type to a datetime object."
      ]
    },
    {
      "cell_type": "code",
      "execution_count": null,
      "id": "b18a5f24",
      "metadata": {
        "id": "b18a5f24"
      },
      "outputs": [],
      "source": [
        "# convert to datetime\n",
        "df['publishedTime'] = pd.to_datetime(df['publishedTime'])"
      ]
    },
    {
      "cell_type": "code",
      "execution_count": null,
      "id": "099ba655",
      "metadata": {
        "id": "099ba655",
        "outputId": "4db349df-b089-4b77-b79b-712ac23b2d66"
      },
      "outputs": [
        {
          "data": {
            "text/html": [
              "<div>\n",
              "<style scoped>\n",
              "    .dataframe tbody tr th:only-of-type {\n",
              "        vertical-align: middle;\n",
              "    }\n",
              "\n",
              "    .dataframe tbody tr th {\n",
              "        vertical-align: top;\n",
              "    }\n",
              "\n",
              "    .dataframe thead th {\n",
              "        text-align: right;\n",
              "    }\n",
              "</style>\n",
              "<table border=\"1\" class=\"dataframe\">\n",
              "  <thead>\n",
              "    <tr style=\"text-align: right;\">\n",
              "      <th></th>\n",
              "      <th>id</th>\n",
              "      <th>title</th>\n",
              "      <th>url</th>\n",
              "      <th>isPaid</th>\n",
              "      <th>price</th>\n",
              "      <th>numSubscribers</th>\n",
              "      <th>numReviews</th>\n",
              "      <th>numPublishedLectures</th>\n",
              "      <th>instructionalLevel</th>\n",
              "      <th>contentInfo (mins)</th>\n",
              "      <th>publishedTime</th>\n",
              "    </tr>\n",
              "  </thead>\n",
              "  <tbody>\n",
              "    <tr>\n",
              "      <th>0</th>\n",
              "      <td>28295</td>\n",
              "      <td>Learn Web Designing &amp; HTML5/CSS3 Essentials in...</td>\n",
              "      <td>https://www.udemy.com/build-beautiful-html5-we...</td>\n",
              "      <td>TRUE</td>\n",
              "      <td>75</td>\n",
              "      <td>43285</td>\n",
              "      <td>525</td>\n",
              "      <td>24</td>\n",
              "      <td>All</td>\n",
              "      <td>240.0</td>\n",
              "      <td>2013-01-03 00:55:31+00:00</td>\n",
              "    </tr>\n",
              "    <tr>\n",
              "      <th>1</th>\n",
              "      <td>19603</td>\n",
              "      <td>Learning Dynamic Website Design - PHP MySQL an...</td>\n",
              "      <td>https://www.udemy.com/learning-dynamic-website...</td>\n",
              "      <td>TRUE</td>\n",
              "      <td>50</td>\n",
              "      <td>47886</td>\n",
              "      <td>285</td>\n",
              "      <td>125</td>\n",
              "      <td>All</td>\n",
              "      <td>750.0</td>\n",
              "      <td>2012-06-18 16:52:34+00:00</td>\n",
              "    </tr>\n",
              "    <tr>\n",
              "      <th>2</th>\n",
              "      <td>889438</td>\n",
              "      <td>ChatBots: Messenger ChatBot with API.AI and No...</td>\n",
              "      <td>https://www.udemy.com/chatbots/</td>\n",
              "      <td>TRUE</td>\n",
              "      <td>50</td>\n",
              "      <td>2577</td>\n",
              "      <td>529</td>\n",
              "      <td>64</td>\n",
              "      <td>All</td>\n",
              "      <td>270.0</td>\n",
              "      <td>2016-06-30 16:57:08+00:00</td>\n",
              "    </tr>\n",
              "    <tr>\n",
              "      <th>3</th>\n",
              "      <td>197836</td>\n",
              "      <td>Projects in HTML5</td>\n",
              "      <td>https://www.udemy.com/projects-in-html5/</td>\n",
              "      <td>TRUE</td>\n",
              "      <td>60</td>\n",
              "      <td>8777</td>\n",
              "      <td>206</td>\n",
              "      <td>75</td>\n",
              "      <td>Intermediate</td>\n",
              "      <td>930.0</td>\n",
              "      <td>2014-06-17 05:43:50+00:00</td>\n",
              "    </tr>\n",
              "    <tr>\n",
              "      <th>4</th>\n",
              "      <td>505208</td>\n",
              "      <td>Programming Foundations: HTML5 + CSS3 for Entr...</td>\n",
              "      <td>https://www.udemy.com/html-css-more/</td>\n",
              "      <td>TRUE</td>\n",
              "      <td>20</td>\n",
              "      <td>23764</td>\n",
              "      <td>490</td>\n",
              "      <td>58</td>\n",
              "      <td>Beginner</td>\n",
              "      <td>330.0</td>\n",
              "      <td>2015-10-17 04:52:25+00:00</td>\n",
              "    </tr>\n",
              "  </tbody>\n",
              "</table>\n",
              "</div>"
            ],
            "text/plain": [
              "       id                                              title  \\\n",
              "0   28295  Learn Web Designing & HTML5/CSS3 Essentials in...   \n",
              "1   19603  Learning Dynamic Website Design - PHP MySQL an...   \n",
              "2  889438  ChatBots: Messenger ChatBot with API.AI and No...   \n",
              "3  197836                                  Projects in HTML5   \n",
              "4  505208  Programming Foundations: HTML5 + CSS3 for Entr...   \n",
              "\n",
              "                                                 url isPaid  price  \\\n",
              "0  https://www.udemy.com/build-beautiful-html5-we...   TRUE     75   \n",
              "1  https://www.udemy.com/learning-dynamic-website...   TRUE     50   \n",
              "2                    https://www.udemy.com/chatbots/   TRUE     50   \n",
              "3           https://www.udemy.com/projects-in-html5/   TRUE     60   \n",
              "4               https://www.udemy.com/html-css-more/   TRUE     20   \n",
              "\n",
              "   numSubscribers  numReviews  numPublishedLectures instructionalLevel  \\\n",
              "0           43285         525                    24                All   \n",
              "1           47886         285                   125                All   \n",
              "2            2577         529                    64                All   \n",
              "3            8777         206                    75       Intermediate   \n",
              "4           23764         490                    58           Beginner   \n",
              "\n",
              "   contentInfo (mins)             publishedTime  \n",
              "0               240.0 2013-01-03 00:55:31+00:00  \n",
              "1               750.0 2012-06-18 16:52:34+00:00  \n",
              "2               270.0 2016-06-30 16:57:08+00:00  \n",
              "3               930.0 2014-06-17 05:43:50+00:00  \n",
              "4               330.0 2015-10-17 04:52:25+00:00  "
            ]
          },
          "execution_count": 460,
          "metadata": {},
          "output_type": "execute_result"
        }
      ],
      "source": [
        "df.head()"
      ]
    },
    {
      "cell_type": "markdown",
      "id": "856d2ed1",
      "metadata": {
        "id": "856d2ed1"
      },
      "source": [
        "#### id column\n",
        "Found the there was one duplicate row and we dropped it"
      ]
    },
    {
      "cell_type": "code",
      "execution_count": null,
      "id": "4bcd967e",
      "metadata": {
        "scrolled": true,
        "id": "4bcd967e",
        "outputId": "1148b825-d0ec-438b-aaf6-e76e01fcbb73"
      },
      "outputs": [
        {
          "data": {
            "text/html": [
              "<div>\n",
              "<style scoped>\n",
              "    .dataframe tbody tr th:only-of-type {\n",
              "        vertical-align: middle;\n",
              "    }\n",
              "\n",
              "    .dataframe tbody tr th {\n",
              "        vertical-align: top;\n",
              "    }\n",
              "\n",
              "    .dataframe thead th {\n",
              "        text-align: right;\n",
              "    }\n",
              "</style>\n",
              "<table border=\"1\" class=\"dataframe\">\n",
              "  <thead>\n",
              "    <tr style=\"text-align: right;\">\n",
              "      <th></th>\n",
              "      <th>id</th>\n",
              "      <th>title</th>\n",
              "      <th>url</th>\n",
              "      <th>isPaid</th>\n",
              "      <th>price</th>\n",
              "      <th>numSubscribers</th>\n",
              "      <th>numReviews</th>\n",
              "      <th>numPublishedLectures</th>\n",
              "      <th>instructionalLevel</th>\n",
              "      <th>contentInfo (mins)</th>\n",
              "      <th>publishedTime</th>\n",
              "    </tr>\n",
              "  </thead>\n",
              "  <tbody>\n",
              "    <tr>\n",
              "      <th>0</th>\n",
              "      <td>28295</td>\n",
              "      <td>Learn Web Designing &amp; HTML5/CSS3 Essentials in...</td>\n",
              "      <td>https://www.udemy.com/build-beautiful-html5-we...</td>\n",
              "      <td>TRUE</td>\n",
              "      <td>75</td>\n",
              "      <td>43285</td>\n",
              "      <td>525</td>\n",
              "      <td>24</td>\n",
              "      <td>All</td>\n",
              "      <td>240.0</td>\n",
              "      <td>2013-01-03 00:55:31+00:00</td>\n",
              "    </tr>\n",
              "    <tr>\n",
              "      <th>83</th>\n",
              "      <td>28295</td>\n",
              "      <td>Learn Web Designing &amp; HTML5/CSS3 Essentials in...</td>\n",
              "      <td>https://www.udemy.com/build-beautiful-html5-we...</td>\n",
              "      <td>TRUE</td>\n",
              "      <td>75</td>\n",
              "      <td>43285</td>\n",
              "      <td>525</td>\n",
              "      <td>24</td>\n",
              "      <td>All</td>\n",
              "      <td>240.0</td>\n",
              "      <td>2013-01-03 00:55:31+00:00</td>\n",
              "    </tr>\n",
              "  </tbody>\n",
              "</table>\n",
              "</div>"
            ],
            "text/plain": [
              "       id                                              title  \\\n",
              "0   28295  Learn Web Designing & HTML5/CSS3 Essentials in...   \n",
              "83  28295  Learn Web Designing & HTML5/CSS3 Essentials in...   \n",
              "\n",
              "                                                  url isPaid  price  \\\n",
              "0   https://www.udemy.com/build-beautiful-html5-we...   TRUE     75   \n",
              "83  https://www.udemy.com/build-beautiful-html5-we...   TRUE     75   \n",
              "\n",
              "    numSubscribers  numReviews  numPublishedLectures instructionalLevel  \\\n",
              "0            43285         525                    24                All   \n",
              "83           43285         525                    24                All   \n",
              "\n",
              "    contentInfo (mins)             publishedTime  \n",
              "0                240.0 2013-01-03 00:55:31+00:00  \n",
              "83               240.0 2013-01-03 00:55:31+00:00  "
            ]
          },
          "execution_count": 461,
          "metadata": {},
          "output_type": "execute_result"
        }
      ],
      "source": [
        "df[df['id'].duplicated(keep= False)]"
      ]
    },
    {
      "cell_type": "code",
      "execution_count": null,
      "id": "b4d6e531",
      "metadata": {
        "id": "b4d6e531"
      },
      "outputs": [],
      "source": [
        "df.drop_duplicates(keep='first', inplace = True)"
      ]
    },
    {
      "cell_type": "markdown",
      "id": "614ed2d8",
      "metadata": {
        "id": "614ed2d8"
      },
      "source": [
        "#### Cleaned Data"
      ]
    },
    {
      "cell_type": "code",
      "execution_count": null,
      "id": "1d283378",
      "metadata": {
        "id": "1d283378",
        "outputId": "37a79a75-37f7-4955-c482-53fd149d59a4"
      },
      "outputs": [
        {
          "data": {
            "text/html": [
              "<div>\n",
              "<style scoped>\n",
              "    .dataframe tbody tr th:only-of-type {\n",
              "        vertical-align: middle;\n",
              "    }\n",
              "\n",
              "    .dataframe tbody tr th {\n",
              "        vertical-align: top;\n",
              "    }\n",
              "\n",
              "    .dataframe thead th {\n",
              "        text-align: right;\n",
              "    }\n",
              "</style>\n",
              "<table border=\"1\" class=\"dataframe\">\n",
              "  <thead>\n",
              "    <tr style=\"text-align: right;\">\n",
              "      <th></th>\n",
              "      <th>id</th>\n",
              "      <th>title</th>\n",
              "      <th>url</th>\n",
              "      <th>isPaid</th>\n",
              "      <th>price</th>\n",
              "      <th>numSubscribers</th>\n",
              "      <th>numReviews</th>\n",
              "      <th>numPublishedLectures</th>\n",
              "      <th>instructionalLevel</th>\n",
              "      <th>contentInfo (mins)</th>\n",
              "      <th>publishedTime</th>\n",
              "    </tr>\n",
              "  </thead>\n",
              "  <tbody>\n",
              "    <tr>\n",
              "      <th>0</th>\n",
              "      <td>28295</td>\n",
              "      <td>Learn Web Designing &amp; HTML5/CSS3 Essentials in...</td>\n",
              "      <td>https://www.udemy.com/build-beautiful-html5-we...</td>\n",
              "      <td>TRUE</td>\n",
              "      <td>75</td>\n",
              "      <td>43285</td>\n",
              "      <td>525</td>\n",
              "      <td>24</td>\n",
              "      <td>All</td>\n",
              "      <td>240.0</td>\n",
              "      <td>2013-01-03 00:55:31+00:00</td>\n",
              "    </tr>\n",
              "    <tr>\n",
              "      <th>1</th>\n",
              "      <td>19603</td>\n",
              "      <td>Learning Dynamic Website Design - PHP MySQL an...</td>\n",
              "      <td>https://www.udemy.com/learning-dynamic-website...</td>\n",
              "      <td>TRUE</td>\n",
              "      <td>50</td>\n",
              "      <td>47886</td>\n",
              "      <td>285</td>\n",
              "      <td>125</td>\n",
              "      <td>All</td>\n",
              "      <td>750.0</td>\n",
              "      <td>2012-06-18 16:52:34+00:00</td>\n",
              "    </tr>\n",
              "    <tr>\n",
              "      <th>2</th>\n",
              "      <td>889438</td>\n",
              "      <td>ChatBots: Messenger ChatBot with API.AI and No...</td>\n",
              "      <td>https://www.udemy.com/chatbots/</td>\n",
              "      <td>TRUE</td>\n",
              "      <td>50</td>\n",
              "      <td>2577</td>\n",
              "      <td>529</td>\n",
              "      <td>64</td>\n",
              "      <td>All</td>\n",
              "      <td>270.0</td>\n",
              "      <td>2016-06-30 16:57:08+00:00</td>\n",
              "    </tr>\n",
              "    <tr>\n",
              "      <th>3</th>\n",
              "      <td>197836</td>\n",
              "      <td>Projects in HTML5</td>\n",
              "      <td>https://www.udemy.com/projects-in-html5/</td>\n",
              "      <td>TRUE</td>\n",
              "      <td>60</td>\n",
              "      <td>8777</td>\n",
              "      <td>206</td>\n",
              "      <td>75</td>\n",
              "      <td>Intermediate</td>\n",
              "      <td>930.0</td>\n",
              "      <td>2014-06-17 05:43:50+00:00</td>\n",
              "    </tr>\n",
              "    <tr>\n",
              "      <th>4</th>\n",
              "      <td>505208</td>\n",
              "      <td>Programming Foundations: HTML5 + CSS3 for Entr...</td>\n",
              "      <td>https://www.udemy.com/html-css-more/</td>\n",
              "      <td>TRUE</td>\n",
              "      <td>20</td>\n",
              "      <td>23764</td>\n",
              "      <td>490</td>\n",
              "      <td>58</td>\n",
              "      <td>Beginner</td>\n",
              "      <td>330.0</td>\n",
              "      <td>2015-10-17 04:52:25+00:00</td>\n",
              "    </tr>\n",
              "    <tr>\n",
              "      <th>5</th>\n",
              "      <td>1086834</td>\n",
              "      <td>How To Make A Wordpress Website 2017 | Divi Th...</td>\n",
              "      <td>https://www.udemy.com/how-to-make-a-wordpress-...</td>\n",
              "      <td>TRUE</td>\n",
              "      <td>40</td>\n",
              "      <td>3541</td>\n",
              "      <td>202</td>\n",
              "      <td>37</td>\n",
              "      <td>Beginner</td>\n",
              "      <td>240.0</td>\n",
              "      <td>2017-01-26 22:15:02+00:00</td>\n",
              "    </tr>\n",
              "    <tr>\n",
              "      <th>6</th>\n",
              "      <td>1094964</td>\n",
              "      <td>Build Your Own Backend REST API using Django R...</td>\n",
              "      <td>https://www.udemy.com/django-python/</td>\n",
              "      <td>TRUE</td>\n",
              "      <td>50</td>\n",
              "      <td>2669</td>\n",
              "      <td>112</td>\n",
              "      <td>72</td>\n",
              "      <td>Intermediate</td>\n",
              "      <td>330.0</td>\n",
              "      <td>2017-04-27 19:21:11+00:00</td>\n",
              "    </tr>\n",
              "    <tr>\n",
              "      <th>7</th>\n",
              "      <td>965870</td>\n",
              "      <td>Angular and Firebase - Build a Web App with Ty...</td>\n",
              "      <td>https://www.udemy.com/angular-firebase-applica...</td>\n",
              "      <td>TRUE</td>\n",
              "      <td>150</td>\n",
              "      <td>1966</td>\n",
              "      <td>359</td>\n",
              "      <td>65</td>\n",
              "      <td>All</td>\n",
              "      <td>300.0</td>\n",
              "      <td>2016-09-27 21:46:03+00:00</td>\n",
              "    </tr>\n",
              "    <tr>\n",
              "      <th>8</th>\n",
              "      <td>965528</td>\n",
              "      <td>Web Development Masterclass - Complete Certifi...</td>\n",
              "      <td>https://www.udemy.com/web-development-mastercl...</td>\n",
              "      <td>TRUE</td>\n",
              "      <td>200</td>\n",
              "      <td>4090</td>\n",
              "      <td>178</td>\n",
              "      <td>348</td>\n",
              "      <td>All</td>\n",
              "      <td>1170.0</td>\n",
              "      <td>2016-10-12 03:14:13+00:00</td>\n",
              "    </tr>\n",
              "    <tr>\n",
              "      <th>9</th>\n",
              "      <td>1078208</td>\n",
              "      <td>Spring Boot Tutorial For Beginners</td>\n",
              "      <td>https://www.udemy.com/spring-boot-tutorial-for...</td>\n",
              "      <td>TRUE</td>\n",
              "      <td>40</td>\n",
              "      <td>2578</td>\n",
              "      <td>210</td>\n",
              "      <td>39</td>\n",
              "      <td>Beginner</td>\n",
              "      <td>330.0</td>\n",
              "      <td>2017-01-23 15:13:53+00:00</td>\n",
              "    </tr>\n",
              "  </tbody>\n",
              "</table>\n",
              "</div>"
            ],
            "text/plain": [
              "        id                                              title  \\\n",
              "0    28295  Learn Web Designing & HTML5/CSS3 Essentials in...   \n",
              "1    19603  Learning Dynamic Website Design - PHP MySQL an...   \n",
              "2   889438  ChatBots: Messenger ChatBot with API.AI and No...   \n",
              "3   197836                                  Projects in HTML5   \n",
              "4   505208  Programming Foundations: HTML5 + CSS3 for Entr...   \n",
              "5  1086834  How To Make A Wordpress Website 2017 | Divi Th...   \n",
              "6  1094964  Build Your Own Backend REST API using Django R...   \n",
              "7   965870  Angular and Firebase - Build a Web App with Ty...   \n",
              "8   965528  Web Development Masterclass - Complete Certifi...   \n",
              "9  1078208                 Spring Boot Tutorial For Beginners   \n",
              "\n",
              "                                                 url isPaid  price  \\\n",
              "0  https://www.udemy.com/build-beautiful-html5-we...   TRUE     75   \n",
              "1  https://www.udemy.com/learning-dynamic-website...   TRUE     50   \n",
              "2                    https://www.udemy.com/chatbots/   TRUE     50   \n",
              "3           https://www.udemy.com/projects-in-html5/   TRUE     60   \n",
              "4               https://www.udemy.com/html-css-more/   TRUE     20   \n",
              "5  https://www.udemy.com/how-to-make-a-wordpress-...   TRUE     40   \n",
              "6               https://www.udemy.com/django-python/   TRUE     50   \n",
              "7  https://www.udemy.com/angular-firebase-applica...   TRUE    150   \n",
              "8  https://www.udemy.com/web-development-mastercl...   TRUE    200   \n",
              "9  https://www.udemy.com/spring-boot-tutorial-for...   TRUE     40   \n",
              "\n",
              "   numSubscribers  numReviews  numPublishedLectures instructionalLevel  \\\n",
              "0           43285         525                    24                All   \n",
              "1           47886         285                   125                All   \n",
              "2            2577         529                    64                All   \n",
              "3            8777         206                    75       Intermediate   \n",
              "4           23764         490                    58           Beginner   \n",
              "5            3541         202                    37           Beginner   \n",
              "6            2669         112                    72       Intermediate   \n",
              "7            1966         359                    65                All   \n",
              "8            4090         178                   348                All   \n",
              "9            2578         210                    39           Beginner   \n",
              "\n",
              "   contentInfo (mins)             publishedTime  \n",
              "0               240.0 2013-01-03 00:55:31+00:00  \n",
              "1               750.0 2012-06-18 16:52:34+00:00  \n",
              "2               270.0 2016-06-30 16:57:08+00:00  \n",
              "3               930.0 2014-06-17 05:43:50+00:00  \n",
              "4               330.0 2015-10-17 04:52:25+00:00  \n",
              "5               240.0 2017-01-26 22:15:02+00:00  \n",
              "6               330.0 2017-04-27 19:21:11+00:00  \n",
              "7               300.0 2016-09-27 21:46:03+00:00  \n",
              "8              1170.0 2016-10-12 03:14:13+00:00  \n",
              "9               330.0 2017-01-23 15:13:53+00:00  "
            ]
          },
          "execution_count": 465,
          "metadata": {},
          "output_type": "execute_result"
        }
      ],
      "source": [
        "# call the first 10 rows of the cleaned data\n",
        "df.head(10)"
      ]
    },
    {
      "cell_type": "code",
      "execution_count": null,
      "id": "f832c14c",
      "metadata": {
        "id": "f832c14c",
        "outputId": "479d2c2f-01fe-4630-aee0-f0c990c31cfc"
      },
      "outputs": [
        {
          "name": "stdout",
          "output_type": "stream",
          "text": [
            "<class 'pandas.core.frame.DataFrame'>\n",
            "Int64Index: 1199 entries, 0 to 1199\n",
            "Data columns (total 11 columns):\n",
            " #   Column                Non-Null Count  Dtype              \n",
            "---  ------                --------------  -----              \n",
            " 0   id                    1199 non-null   int64              \n",
            " 1   title                 1199 non-null   object             \n",
            " 2   url                   1199 non-null   object             \n",
            " 3   isPaid                1199 non-null   object             \n",
            " 4   price                 1199 non-null   int32              \n",
            " 5   numSubscribers        1199 non-null   int64              \n",
            " 6   numReviews            1199 non-null   int64              \n",
            " 7   numPublishedLectures  1199 non-null   int64              \n",
            " 8   instructionalLevel    1199 non-null   category           \n",
            " 9   contentInfo (mins)    1199 non-null   float64            \n",
            " 10  publishedTime         1199 non-null   datetime64[ns, UTC]\n",
            "dtypes: category(1), datetime64[ns, UTC](1), float64(1), int32(1), int64(4), object(3)\n",
            "memory usage: 99.7+ KB\n"
          ]
        }
      ],
      "source": [
        "df.info()"
      ]
    }
  ],
  "metadata": {
    "kernelspec": {
      "display_name": "Python 3 (ipykernel)",
      "language": "python",
      "name": "python3"
    },
    "language_info": {
      "codemirror_mode": {
        "name": "ipython",
        "version": 3
      },
      "file_extension": ".py",
      "mimetype": "text/x-python",
      "name": "python",
      "nbconvert_exporter": "python",
      "pygments_lexer": "ipython3",
      "version": "3.9.12"
    },
    "colab": {
      "provenance": []
    }
  },
  "nbformat": 4,
  "nbformat_minor": 5
}